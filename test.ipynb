{
 "cells": [
  {
   "cell_type": "code",
   "execution_count": 15,
   "metadata": {},
   "outputs": [],
   "source": [
    "import os\n",
    "import time"
   ]
  },
  {
   "cell_type": "code",
   "execution_count": 16,
   "metadata": {},
   "outputs": [
    {
     "data": {
      "text/plain": [
       "[{'name': '$RECYCLE.BIN', 'type': 'dir', 'time': '2022/9/22 17:54:47'},\n",
       " {'name': 'BaiduNetdiskDownload',\n",
       "  'type': 'dir',\n",
       "  'time': '2021/11/10 21:26:48'},\n",
       " {'name': 'CloudMusic', 'type': 'dir', 'time': '2019/6/22 9:27:47'},\n",
       " {'name': 'coding', 'type': 'dir', 'time': '2021/7/21 15:28:44'},\n",
       " {'name': 'Download', 'type': 'dir', 'time': '2022/12/14 22:51:6'},\n",
       " {'name': 'FFOutput', 'type': 'dir', 'time': '2019/7/13 19:28:58'},\n",
       " {'name': 'FileHistory', 'type': 'dir', 'time': '2022/5/22 15:08:7'},\n",
       " {'name': 'flask', 'type': 'dir', 'time': '2022/8/26 13:07:27'},\n",
       " {'name': 'huaweinet', 'type': 'dir', 'time': '2021/11/10 22:24:32'},\n",
       " {'name': 'huaweinetsave', 'type': 'dir', 'time': '2021/11/10 22:25:57'},\n",
       " {'name': 'IE10下载', 'type': 'dir', 'time': '2019/7/11 17:58:28'},\n",
       " {'name': 'Learn', 'type': 'dir', 'time': '2022/9/18 15:010:41'},\n",
       " {'name': 'MapData', 'type': 'dir', 'time': '2020/2/3 20:23:0'},\n",
       " {'name': 'miflash', 'type': 'dir', 'time': '2022/1/24 20:33:22'},\n",
       " {'name': 'notebook', 'type': 'dir', 'time': '2022/10/4 16:59:32'},\n",
       " {'name': 'Project', 'type': 'dir', 'time': '2022/8/24 10:53:7'},\n",
       " {'name': 'recommender system', 'type': 'dir', 'time': '2022/10/8 22:11:28'},\n",
       " {'name': 'resource', 'type': 'dir', 'time': '2022/1/4 20:00:13'},\n",
       " {'name': 'System Volume Information',\n",
       "  'type': 'dir',\n",
       "  'time': '2019/6/21 23:33:51'},\n",
       " {'name': 'Wall_img', 'type': 'dir', 'time': '2021/9/24 8:40:57'},\n",
       " {'name': 'workspace', 'type': 'dir', 'time': '2022/11/30 17:46:21'},\n",
       " {'name': 'zip', 'type': 'dir', 'time': '2022/11/2 16:11:46'},\n",
       " {'name': '学习资料', 'type': 'dir', 'time': '2023/2/1 23:11:23'},\n",
       " {'name': '录屏', 'type': 'dir', 'time': '2021/10/16 11:42:25'},\n",
       " {'name': '照片', 'type': 'dir', 'time': '2019/6/24 0:23:22'},\n",
       " {'name': '软件', 'type': 'dir', 'time': '2021/6/29 8:51:42'},\n",
       " {'name': '迅雷下载', 'type': 'dir', 'time': '2022/9/25 20:03:57'},\n",
       " {'name': '迅雷云盘', 'type': 'dir', 'time': '2021/11/1 21:19:6'},\n",
       " {'name': '213.jpg', 'type': 'file', 'size': 931369},\n",
       " {'name': '260个高级转场预设（中文版）第二次修改.prfpset', 'type': 'file', 'size': 12004668},\n",
       " {'name': 'ALI213-Raft.Early.Access.Plus.20.Trainer.Updated.2021.06.22.rar',\n",
       "  'type': 'file',\n",
       "  'size': 684925},\n",
       " {'name': 'arknights-hg-1962.apk', 'type': 'file', 'size': 1432361097},\n",
       " {'name': 'arknights-hg-1981.apk', 'type': 'file', 'size': 1383086316},\n",
       " {'name': 'bp.html', 'type': 'file', 'size': 638552},\n",
       " {'name': 'Clash_1675410825.yaml', 'type': 'file', 'size': 389083},\n",
       " {'name': 'd59d7a1d0968bcc13ba751fd70905f61.jpg',\n",
       "  'type': 'file',\n",
       "  'size': 1525940},\n",
       " {'name': 'download_5fdg453d.torrent', 'type': 'file', 'size': 24452},\n",
       " {'name': 'IDM.7z', 'type': 'file', 'size': 6780586},\n",
       " {'name': 'iguokao_client_latest.exe', 'type': 'file', 'size': 138396536},\n",
       " {'name': 'Immunotherapy.xlsx', 'type': 'file', 'size': 33796},\n",
       " {'name': 'linear (2).html', 'type': 'file', 'size': 605606},\n",
       " {'name': 'linear.html', 'type': 'file', 'size': 605606},\n",
       " {'name': 'movie.mp4', 'type': 'file', 'size': 243104},\n",
       " {'name': 'sons-of-the-forest-v-32361-early-access-2023-pc-repack-ot-pioneer.torrent',\n",
       "  'type': 'file',\n",
       "  'size': 22969},\n",
       " {'name': 'Two Steps From Hell - Victory.mp3',\n",
       "  'type': 'file',\n",
       "  'size': 12944266},\n",
       " {'name': 'vue2-manage-master.zip', 'type': 'file', 'size': 825124},\n",
       " {'name': '作业3.docx', 'type': 'file', 'size': 12584},\n",
       " {'name': '校园植物种类调查与维护_compressed.pdf', 'type': 'file', 'size': 9427999},\n",
       " {'name': '职业测试.7z', 'type': 'file', 'size': 302909},\n",
       " {'name': '附件4：2022-2023学年春季学期劳动教育实践课开课情况.xlsx',\n",
       "  'type': 'file',\n",
       "  'size': 34041}]"
      ]
     },
     "execution_count": 16,
     "metadata": {},
     "output_type": "execute_result"
    }
   ],
   "source": [
    "DIRECTORY_PATH = \"G:\\\\\"\n",
    "\n",
    "def get_files_data():\n",
    "    files = []\n",
    "    for i in os.listdir(DIRECTORY_PATH):\n",
    "        if i[0]=='.':\n",
    "            continue\n",
    "        for i in os.listdir(DIRECTORY_PATH):\n",
    "            if os.path.isdir(DIRECTORY_PATH+i):\n",
    "                t_i=time.localtime(os.path.getctime(DIRECTORY_PATH+f'/{i}'))\n",
    "                files.append({\n",
    "                    'name':i,\n",
    "                    'type':'dir',\n",
    "                    'time':f\"{t_i.tm_year}/{t_i.tm_mon}/{t_i.tm_mday} \\\n",
    "{t_i.tm_hour}:{t_i.tm_min if t_i.tm_min>10 else f'0{t_i.tm_min}'}:{t_i.tm_sec}\"})\n",
    "            else:\n",
    "                files.append({'name':i,'type':'file','size':os.path.getsize(DIRECTORY_PATH+f'/{i}')})\n",
    "        files.sort(key=lambda x:x['type'])\n",
    "\n",
    "        return files\n",
    "\n",
    "    return files\n",
    "\n",
    "get_files_data()"
   ]
  },
  {
   "cell_type": "code",
   "execution_count": null,
   "metadata": {},
   "outputs": [],
   "source": []
  }
 ],
 "metadata": {
  "kernelspec": {
   "display_name": "Python 3",
   "language": "python",
   "name": "python3"
  },
  "language_info": {
   "codemirror_mode": {
    "name": "ipython",
    "version": 3
   },
   "file_extension": ".py",
   "mimetype": "text/x-python",
   "name": "python",
   "nbconvert_exporter": "python",
   "pygments_lexer": "ipython3",
   "version": "3.11.0"
  },
  "orig_nbformat": 4
 },
 "nbformat": 4,
 "nbformat_minor": 2
}
