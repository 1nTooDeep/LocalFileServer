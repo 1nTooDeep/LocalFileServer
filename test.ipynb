{
 "cells": [
  {
   "cell_type": "code",
   "execution_count": 35,
   "metadata": {},
   "outputs": [],
   "source": [
    "import os\n",
    "import time"
   ]
  },
  {
   "cell_type": "code",
   "execution_count": null,
   "metadata": {},
   "outputs": [],
   "source": []
  },
  {
   "cell_type": "code",
   "execution_count": 36,
   "metadata": {},
   "outputs": [
    {
     "name": "stdout",
     "output_type": "stream",
     "text": [
      "['.git', 'app.py', 'blueprints', 'cv.ipynb', 'download.py', 'get_file.py', 'login.py', 'static', 'templates', 'test.ipynb', '__pycache__']\n",
      ".git True\n",
      "continue\n",
      "app.py False\n",
      "blueprints False\n",
      "cv.ipynb False\n",
      "download.py False\n",
      "get_file.py False\n",
      "login.py False\n",
      "static False\n",
      "templates False\n",
      "test.ipynb False\n",
      "__pycache__ False\n"
     ]
    },
    {
     "data": {
      "text/plain": [
       "[{'name': 'app.py',\n",
       "  'type': 'file',\n",
       "  'size': 1128,\n",
       "  'time': '2023/3/14 10:21:48'},\n",
       " {'name': 'blueprints',\n",
       "  'type': 'file',\n",
       "  'size': 0,\n",
       "  'time': '2023/3/14 10:21:48'},\n",
       " {'name': 'cv.ipynb',\n",
       "  'type': 'file',\n",
       "  'size': 2954,\n",
       "  'time': '2023/3/14 10:21:48'},\n",
       " {'name': 'download.py',\n",
       "  'type': 'file',\n",
       "  'size': 629,\n",
       "  'time': '2023/3/14 10:21:48'},\n",
       " {'name': 'get_file.py',\n",
       "  'type': 'file',\n",
       "  'size': 1091,\n",
       "  'time': '2023/3/14 10:21:48'},\n",
       " {'name': 'login.py',\n",
       "  'type': 'file',\n",
       "  'size': 150,\n",
       "  'time': '2023/3/14 10:21:48'},\n",
       " {'name': 'static', 'type': 'file', 'size': 0, 'time': '2023/3/14 10:21:48'},\n",
       " {'name': 'templates',\n",
       "  'type': 'file',\n",
       "  'size': 0,\n",
       "  'time': '2023/3/14 10:21:48'},\n",
       " {'name': 'test.ipynb',\n",
       "  'type': 'file',\n",
       "  'size': 2995,\n",
       "  'time': '2023/3/14 10:21:48'},\n",
       " {'name': '__pycache__',\n",
       "  'type': 'file',\n",
       "  'size': 4096,\n",
       "  'time': '2023/3/14 10:21:48'}]"
      ]
     },
     "execution_count": 36,
     "metadata": {},
     "output_type": "execute_result"
    }
   ],
   "source": [
    "import os\n",
    "import time\n",
    "DIRECTORY_PATH = \"G:\\workspace\\\\flask\\\\LocalFileServer\"\n",
    "def get_files_data():\n",
    "    files = []\n",
    "    print(os.listdir(DIRECTORY_PATH))\n",
    "    for i in os.listdir(DIRECTORY_PATH):\n",
    "        print(i,i[0]=='.')\n",
    "        if i[0]=='.':\n",
    "            print(\"continue\")\n",
    "            continue\n",
    "        if os.path.isdir(DIRECTORY_PATH+i):\n",
    "            t_i=time.localtime(os.path.getctime(DIRECTORY_PATH+f'/{i}'))\n",
    "            files.append({\n",
    "                'name':i,\n",
    "                'type':'dir',\n",
    "                'time':f\"{t_i.tm_year}/{t_i.tm_mon}/{t_i.tm_mday} \\\n",
    "{t_i.tm_hour}:{t_i.tm_min if t_i.tm_min>10 else f'0{t_i.tm_min}'}:{t_i.tm_sec}\"})\n",
    "            continue\n",
    "        else:\n",
    "            t_i=time.localtime(os.path.getctime(DIRECTORY_PATH+f'/{i}'))\n",
    "            files.append({'name':i,'type':'file',\n",
    "                            'size':os.path.getsize(DIRECTORY_PATH+f'/{i}'),\n",
    "                            'time':f\"{t_i.tm_year}/{t_i.tm_mon}/{t_i.tm_mday} \\\n",
    "{t_i.tm_hour}:{t_i.tm_min if t_i.tm_min>10 else f'0{t_i.tm_min}'}:{t_i.tm_sec}\"\n",
    "            })\n",
    "    files.sort(key=lambda x:x['type'])\n",
    "\n",
    "    return files\n",
    "\n",
    "    return files\n",
    "get_files_data()"
   ]
  },
  {
   "cell_type": "code",
   "execution_count": null,
   "metadata": {},
   "outputs": [],
   "source": []
  }
 ],
 "metadata": {
  "kernelspec": {
   "display_name": "Python 3",
   "language": "python",
   "name": "python3"
  },
  "language_info": {
   "codemirror_mode": {
    "name": "ipython",
    "version": 3
   },
   "file_extension": ".py",
   "mimetype": "text/x-python",
   "name": "python",
   "nbconvert_exporter": "python",
   "pygments_lexer": "ipython3",
   "version": "3.11.0"
  },
  "orig_nbformat": 4
 },
 "nbformat": 4,
 "nbformat_minor": 2
}
