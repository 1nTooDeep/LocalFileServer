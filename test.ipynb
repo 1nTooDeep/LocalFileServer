{
 "cells": [
  {
   "cell_type": "code",
   "execution_count": 1,
   "metadata": {},
   "outputs": [],
   "source": [
    "import os\n",
    "import time"
   ]
  },
  {
   "cell_type": "code",
   "execution_count": 3,
   "metadata": {},
   "outputs": [
    {
     "name": "stdout",
     "output_type": "stream",
     "text": [
      "['static', 'templates', 'download.py', '.git', 'blueprints', 'cv.ipynb', 'test.ipynb', '__pycache__', 'login.py', '.ipynb_checkpoints', 'app.py', 'get_file.py']\n"
     ]
    },
    {
     "data": {
      "text/plain": [
       "[{'name': 'python', 'type': 'dir', 'time': '2023/3/13 14:12:58'},\n",
       " {'name': 'javalearning', 'type': 'dir', 'time': '2023/1/11 15:30:53'},\n",
       " {'name': 'cpp', 'type': 'dir', 'time': '2023/3/8 9:32:12'},\n",
       " {'name': 't.sh', 'type': 'file', 'size': 29}]"
      ]
     },
     "execution_count": 3,
     "metadata": {},
     "output_type": "execute_result"
    }
   ],
   "source": [
    "DIRECTORY_PATH = \"/home/weii/Workfile/\"\n",
    "\n",
    "def get_files_data():\n",
    "    files = []\n",
    "    for i in os.listdir(DIRECTORY_PATH):\n",
    "        if i[0]=='.':\n",
    "            continue\n",
    "        for i in os.listdir(DIRECTORY_PATH):\n",
    "            if os.path.isdir(DIRECTORY_PATH+i):\n",
    "                t_i=time.localtime(os.path.getctime(DIRECTORY_PATH+f'/{i}'))\n",
    "                files.append({\n",
    "                    'name':i,\n",
    "                    'type':'dir',\n",
    "                    'time':f\"{t_i.tm_year}/{t_i.tm_mon}/{t_i.tm_mday} \\\n",
    "{t_i.tm_hour}:{t_i.tm_min if t_i.tm_min>10 else f'0{t_i.tm_min}'}:{t_i.tm_sec}\"})\n",
    "            else:\n",
    "                files.append({'name':i,'type':'file','size':os.path.getsize(DIRECTORY_PATH+f'/{i}')})\n",
    "        files.sort(key=lambda x:x['type'])\n",
    "\n",
    "        return files\n",
    "\n",
    "    return files\n",
    "print(os.listdir())\n",
    "get_files_data()"
   ]
  },
  {
   "cell_type": "code",
   "execution_count": null,
   "metadata": {},
   "outputs": [],
   "source": []
  }
 ],
 "metadata": {
  "kernelspec": {
   "display_name": "Python 3",
   "language": "python",
   "name": "python3"
  },
  "language_info": {
   "codemirror_mode": {
    "name": "ipython",
    "version": 3
   },
   "file_extension": ".py",
   "mimetype": "text/x-python",
   "name": "python",
   "nbconvert_exporter": "python",
   "pygments_lexer": "ipython3",
   "version": "3.10.4"
  },
  "orig_nbformat": 4
 },
 "nbformat": 4,
 "nbformat_minor": 2
}
